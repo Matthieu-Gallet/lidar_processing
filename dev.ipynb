{
 "cells": [
  {
   "cell_type": "code",
   "execution_count": 1,
   "id": "ededc211",
   "metadata": {},
   "outputs": [],
   "source": [
    "from utils import  select_and_save_tiles"
   ]
  },
  {
   "cell_type": "code",
   "execution_count": 1,
   "id": "e7b60d28",
   "metadata": {},
   "outputs": [],
   "source": [
    "name_file = \"/home/mgallet/Documents/Herbiland/vegetation/DATA/LIDAR/RAW/peclerey/LHD_FXX_1007_6552_PTS_C_LAMB93_IGN69.copc.laz\"\n",
    "tuiles_path = \"/home/mgallet/Documents/DATA/TA_programme_LiDAR-HD/TA_programme_lidar_HD_path.shp\"\n",
    "parcelle_path = \"/home/mgallet/Documents/Herbiland/vegetation/DATA/SHP/Bauges_Belledonne_MB/Emprise_totale_3massifs_EPSG2154_V2.shp\"\n",
    "\n",
    "# o = select_and_save_tiles(tuiles_path, parcelle_path, name_file, \"test.shp\")"
   ]
  },
  {
   "cell_type": "code",
   "execution_count": 4,
   "id": "41803baa",
   "metadata": {},
   "outputs": [
    {
     "data": {
      "text/plain": [
       "17322128"
      ]
     },
     "execution_count": 4,
     "metadata": {},
     "output_type": "execute_result"
    }
   ],
   "source": [
    "import pdal, json\n",
    "\n",
    "pdal_pipeline = json.dumps(\n",
    "            {\n",
    "  \"pipeline\": [\n",
    "    {\n",
    "      \"type\": \"readers.las\",\n",
    "      \"filename\": \"/home/mgallet/Documents/Herbiland/vegetation/DATA/LIDAR/RAW/peclerey/LHD_FXX_1007_6552_PTS_C_LAMB93_IGN69.copc.laz\"\n",
    "    },\n",
    "    \n",
    "  ]\n",
    "    }\n",
    ")\n",
    "pipeline = pdal.Pipeline(pdal_pipeline)\n",
    "pipeline.execute()\n"
   ]
  },
  {
   "cell_type": "code",
   "execution_count": 7,
   "id": "8df4b4ad",
   "metadata": {},
   "outputs": [
    {
     "data": {
      "text/plain": [
       "842.5032043457031"
      ]
     },
     "execution_count": 7,
     "metadata": {},
     "output_type": "execute_result"
    }
   ],
   "source": [
    "pipeline.arrays[0]\n",
    "import os \n",
    "os.sys.getsizeof(pipeline.arrays[0])/1024/1024"
   ]
  },
  {
   "cell_type": "code",
   "execution_count": null,
   "id": "eb64c72a",
   "metadata": {},
   "outputs": [],
   "source": []
  },
  {
   "cell_type": "code",
   "execution_count": null,
   "id": "a9f0f1bc",
   "metadata": {},
   "outputs": [
    {
     "ename": "TypeError",
     "evalue": "list indices must be integers or slices, not str",
     "output_type": "error",
     "traceback": [
      "\u001b[0;31m---------------------------------------------------------------------------\u001b[0m",
      "\u001b[0;31mTypeError\u001b[0m                                 Traceback (most recent call last)",
      "Cell \u001b[0;32mIn[48], line 1\u001b[0m\n\u001b[0;32m----> 1\u001b[0m o\u001b[38;5;241m.\u001b[39mdescr[\u001b[38;5;124m\"\u001b[39m\u001b[38;5;124mX\u001b[39m\u001b[38;5;124m\"\u001b[39m]\n",
      "\u001b[0;31mTypeError\u001b[0m: list indices must be integers or slices, not str"
     ]
    }
   ],
   "source": [
    "o.descr"
   ]
  },
  {
   "cell_type": "code",
   "execution_count": null,
   "id": "ba68645a",
   "metadata": {},
   "outputs": [
    {
     "data": {
      "text/plain": [
       "array([['X', '<f8'],\n",
       "       ['Y', '<f8'],\n",
       "       ['Z', '<f8'],\n",
       "       ['Intensity', '<u2'],\n",
       "       ['ReturnNumber', '|u1'],\n",
       "       ['NumberOfReturns', '|u1'],\n",
       "       ['ScanDirectionFlag', '|u1'],\n",
       "       ['EdgeOfFlightLine', '|u1'],\n",
       "       ['Classification', '|u1'],\n",
       "       ['Synthetic', '|u1'],\n",
       "       ['KeyPoint', '|u1'],\n",
       "       ['Withheld', '|u1'],\n",
       "       ['Overlap', '|u1'],\n",
       "       ['ScanAngleRank', '<f4'],\n",
       "       ['UserData', '|u1'],\n",
       "       ['PointSourceId', '<u2'],\n",
       "       ['GpsTime', '<f8'],\n",
       "       ['ScanChannel', '|u1']], dtype='<U17')"
      ]
     },
     "execution_count": 51,
     "metadata": {},
     "output_type": "execute_result"
    }
   ],
   "source": [
    "a\n"
   ]
  },
  {
   "cell_type": "code",
   "execution_count": null,
   "id": "4de38cef",
   "metadata": {},
   "outputs": [
    {
     "data": {
      "text/plain": [
       "[('X', '<f8'),\n",
       " ('Y', '<f8'),\n",
       " ('Z', '<f8'),\n",
       " ('Intensity', '<u2'),\n",
       " ('Classification', '|u1')]"
      ]
     },
     "execution_count": 66,
     "metadata": {},
     "output_type": "execute_result"
    }
   ],
   "source": [
    "\"X\" in np.array(o.descr)\n",
    "\n",
    "\n",
    "var_for"
   ]
  },
  {
   "cell_type": "code",
   "execution_count": 74,
   "id": "080db828",
   "metadata": {},
   "outputs": [
    {
     "name": "stdout",
     "output_type": "stream",
     "text": [
      "X\n",
      "Y\n",
      "Z\n",
      "Intensity\n"
     ]
    }
   ],
   "source": [
    "for i in sub.dtype.names:\n",
    "    print(i)"
   ]
  },
  {
   "cell_type": "code",
   "execution_count": null,
   "id": "b09601dd",
   "metadata": {},
   "outputs": [
    {
     "data": {
      "text/plain": [
       "429.51148986816406"
      ]
     },
     "execution_count": 10,
     "metadata": {},
     "output_type": "execute_result"
    }
   ],
   "source": [
    "import numpy as np\n",
    "keep_variables= [\n",
    "    \"X\",\n",
    "    \"Y\",\n",
    "    \"Z\",\n",
    "    \"Intensity\",\n",
    "    \"Classification\",\n",
    "    \"HeightAboveGround\"\n",
    "]\n",
    "o =pipeline.arrays[0].dtype\n",
    "o.descr[0][1]\n",
    "sub = np.empty(pipeline.arrays[0].shape[0], dtype=[('X', 'f8'), ('Y', 'f8'), ('Z', 'f8'), ('Intensity', 'u2')])\n",
    "sub['X'] = pipeline.arrays[0]['X']\n",
    "sub['Y'] = pipeline.arrays[0]['Y']\n",
    "sub['Z'] = pipeline.arrays[0]['Z']\n",
    "sub['Intensity'] = pipeline.arrays[0]['Intensity']\n",
    "\n",
    "np.save(\"test.npy\", sub)\n",
    "del sub\n",
    "sub = np.load(\"test.npy\")\n",
    "os.sys.getsizeof(sub)/1024/1024\n",
    "\n"
   ]
  },
  {
   "cell_type": "code",
   "execution_count": 76,
   "id": "2050fd55",
   "metadata": {},
   "outputs": [
    {
     "data": {
      "text/plain": [
       "{'group': 5,\n",
       " 'keep_variables': ['X',\n",
       "  'Y',\n",
       "  'Z',\n",
       "  'Intensity',\n",
       "  'Classification',\n",
       "  'HeightAboveGround'],\n",
       " 'n_jobs': 2}"
      ]
     },
     "execution_count": 76,
     "metadata": {},
     "output_type": "execute_result"
    }
   ],
   "source": [
    "import json\n",
    "\n",
    "with open(\"config/default_config.json\", \"r\") as f:\n",
    "    config = json.load(f)\n",
    "\n",
    "config[\"processor_settings\"]"
   ]
  }
 ],
 "metadata": {
  "kernelspec": {
   "display_name": "pdal",
   "language": "python",
   "name": "python3"
  },
  "language_info": {
   "codemirror_mode": {
    "name": "ipython",
    "version": 3
   },
   "file_extension": ".py",
   "mimetype": "text/x-python",
   "name": "python",
   "nbconvert_exporter": "python",
   "pygments_lexer": "ipython3",
   "version": "3.13.1"
  }
 },
 "nbformat": 4,
 "nbformat_minor": 5
}

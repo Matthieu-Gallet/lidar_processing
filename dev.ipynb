{
 "cells": [
  {
   "cell_type": "code",
   "execution_count": 1,
   "id": "ededc211",
   "metadata": {},
   "outputs": [],
   "source": [
    "from utils import  select_and_save_tiles"
   ]
  },
  {
   "cell_type": "code",
   "execution_count": 7,
   "id": "e7b60d28",
   "metadata": {},
   "outputs": [],
   "source": [
    "name_file = \"/home/mgallet/Documents/Herbiland/vegetation/DATA/LIDAR/RAW/peclerey/LHD_FXX_1007_6552_PTS_C_LAMB93_IGN69.copc.laz\"\n",
    "tuiles_path = \"/home/mgallet/Documents/DATA/TA_programme_LiDAR-HD/TA_programme_lidar_HD_path.shp\"\n",
    "parcelle_path = \"/home/mgallet/Documents/Herbiland/vegetation/DATA/SHP/Bauges_Belledonne_MB/Emprise_totale_3massifs_EPSG2154_V2.shp\"\n",
    "\n",
    "o = select_and_save_tiles(tuiles_path, parcelle_path, name_file, \"test.shp\")"
   ]
  },
  {
   "cell_type": "code",
   "execution_count": 9,
   "id": "23c308c6",
   "metadata": {},
   "outputs": [],
   "source": [
    "o.geometry.to_file(\"test2.shp\")"
   ]
  },
  {
   "cell_type": "code",
   "execution_count": null,
   "id": "6f2230e9",
   "metadata": {},
   "outputs": [],
   "source": [
    "import os\n",
    "import geopandas as gpd\n",
    "\n",
    "def select_and_save_tiles(tuiles_path, parcelle_path, name_file, name_out=\"temp.shp\", crop=True):\n",
    "    \"\"\"\n",
    "    Select and extract the footprint of a shapefile inside a LiDAR tile,\n",
    "    from the LiDAR tile acquisition shapefile.\n",
    "\n",
    "    Parameters:\n",
    "    ----------\n",
    "    tuiles_path : str\n",
    "        Path to the shapefile containing the list of LiDAR tiles (square polygons).\n",
    "    parcelle_path : str\n",
    "        Path to the shapefile containing the area of interest (polygon).\n",
    "    name_file : str\n",
    "        Path to the input file (LiDAR tiles).\n",
    "    name_out : str, optional\n",
    "        Path to the output file (shapefile) where the selected tile will be saved.\n",
    "        If not provided, a temporary file will be created.\n",
    "    crop : bool, optional\n",
    "        If True, the output will be the intersection of the tile and the area of interest.\n",
    "        If False, the output will be the tile itself. Default is True.\n",
    "\n",
    "    Returns:\n",
    "    -------\n",
    "    int\n",
    "        Returns 1 if the operation is successful.\n",
    "    \"\"\"\n",
    "    name_file = os.path.basename(name_file).split(\".\")[0]\n",
    "    coords = name_file.split(\"_\")[2:4]\n",
    "    \n",
    "    # Load the tiles shapefile\n",
    "    tuiles = gpd.read_file(tuiles_path)\n",
    "    \n",
    "    # Load the parcel shapefile\n",
    "    parcelle = gpd.read_file(parcelle_path)\n",
    "\n",
    "    # Filter tiles by coordinates\n",
    "    tuiles = tuiles[\n",
    "        tuiles[\"nom\"].str.contains(coords[0]) & tuiles[\"nom\"].str.contains(coords[1])\n",
    "    ]\n",
    "    \n",
    "    # Intersect and save\n",
    "    if len(tuiles) > 0:\n",
    "        if crop:\n",
    "            parcelle.intersection(tuiles.geometry.iloc[0]).to_file(\n",
    "                name_out, driver=\"ESRI Shapefile\"\n",
    "            )\n",
    "        return 1\n",
    "    return 0\n"
   ]
  }
 ],
 "metadata": {
  "kernelspec": {
   "display_name": "pdal",
   "language": "python",
   "name": "python3"
  },
  "language_info": {
   "codemirror_mode": {
    "name": "ipython",
    "version": 3
   },
   "file_extension": ".py",
   "mimetype": "text/x-python",
   "name": "python",
   "nbconvert_exporter": "python",
   "pygments_lexer": "ipython3",
   "version": "3.13.1"
  }
 },
 "nbformat": 4,
 "nbformat_minor": 5
}

{
 "cells": [
  {
   "cell_type": "code",
   "execution_count": null,
   "id": "feb76d37",
   "metadata": {},
   "outputs": [],
   "source": [
    "from pyforestscan.calculate import calculate_chm, calculate_fhd, assign_voxels\n",
    "from pyforestscan.handlers import read_lidar, create_geotiff\n",
    "import numpy as np\n",
    "import glob, os"
   ]
  },
  {
   "cell_type": "code",
   "execution_count": 28,
   "id": "422e1d5c",
   "metadata": {},
   "outputs": [],
   "source": [
    "path = \"/home/mgallet/Documents/DATA/LIDAR_TEST/processed_V4_fulltiles_avecCSF_002VOX/**/*.npy\"\n",
    "path2 = \"/home/mgallet/Documents/DATA/LIDAR_TEST/processed_V2_*/**/*.npy\""
   ]
  },
  {
   "cell_type": "code",
   "execution_count": 29,
   "id": "91b845ba",
   "metadata": {},
   "outputs": [],
   "source": [
    "data = np.load(glob.glob(path2, recursive=True)[0])"
   ]
  },
  {
   "cell_type": "code",
   "execution_count": null,
   "id": "9fc3b74b",
   "metadata": {},
   "outputs": [],
   "source": [
    "\n",
    "\n",
    "def create_pdal_pipeline_phase2(input_files, output_file):\n",
    "    \"\"\"\n",
    "    Crée la deuxième phase du pipeline PDAL pour fusionner les tuiles prétraitées\n",
    "    et appliquer les traitements qui nécessitent une vue globale.\n",
    "\n",
    "    Parameters:\n",
    "    ----------\n",
    "    input_files : list\n",
    "        Liste des fichiers LAS/LAZ prétraités par la phase 1.\n",
    "    output_file : str\n",
    "        Chemin du fichier de sortie final.\n",
    "    pdal_pipeline_template : list, optional\n",
    "        Modèle pour les étapes du pipeline PDAL (phase 2 uniquement).\n",
    "    quality_level : dict, optional\n",
    "        Paramètres de niveau de qualité à appliquer.\n",
    "\n",
    "    Returns:\n",
    "    -------\n",
    "    dict\n",
    "        Configuration du pipeline PDAL phase 2.\n",
    "    \"\"\"\n",
    "    pipeline = {\"pipeline\": []}\n",
    "\n",
    "    # Ajouter la première tuile avec readers.las\n",
    "    pipeline[\"pipeline\"].append(\n",
    "        {\n",
    "            \"type\": \"readers.las\",\n",
    "            \"filename\": input_files[0],\n",
    "            \"spatialreference\": \"EPSG:2154\",\n",
    "            \"start\": 0,\n",
    "            \"count\": 100000,\n",
    "        }\n",
    "    )\n",
    "\n",
    "    # Ajouter les autres tuiles avec readers.las\n",
    "    for file in input_files[1:]:\n",
    "        pipeline[\"pipeline\"].append(\n",
    "            {\"type\": \"readers.las\", \"filename\": file, \"spatialreference\": \"EPSG:2154\"}\n",
    "        )\n",
    "\n",
    "    # Fusionner les tuiles\n",
    "    pipeline[\"pipeline\"].append({\"type\": \"filters.merge\"})\n",
    "\n",
    "    # Utiliser hag_nn au lieu de hag_delaunay pour de meilleures performances\n",
    "    pipeline[\"pipeline\"].append({\"type\": \"filters.hag_nn\", \"count\": 80})\n",
    "\n",
    "    # Filtrer par hauteur\n",
    "    pipeline[\"pipeline\"].append(\n",
    "        {\"type\": \"filters.range\", \"limits\": \"HeightAboveGround[0:35]\"}\n",
    "    )\n",
    "\n",
    "    # Filtrer par classification\n",
    "    pipeline[\"pipeline\"].append(\n",
    "        {\n",
    "            \"type\": \"filters.expression\",\n",
    "            \"expression\": \"((Classification >= 2) && (Classification <= 5))\",\n",
    "        }\n",
    "    )\n",
    "\n",
    "    # Ajout de l'étape d'écriture\n",
    "    pipeline[\"pipeline\"].append(\n",
    "        {\n",
    "            \"type\": \"writers.las\",\n",
    "            \"filename\": output_file,\n",
    "            \"compression\": \"false\",\n",
    "            \"minor_version\": \"4\",\n",
    "            \"forward\": \"all\",\n",
    "        }\n",
    "    )\n",
    "\n",
    "    return pipeline\n",
    "\n",
    "pip = create_pdal_pipeline_phase2(\n",
    "    input_files=[\"/home/mgallet/Documents/DATA/LIDAR_TEST/uncompress/lidar_data/MontBlanc/cheserys/uncompress_LHD_FXX_1001_6551_PTS_C_LAMB93_IGN69.las\"],\n",
    "    output_file=\"testmerged.las\",\n",
    ")"
   ]
  },
  {
   "cell_type": "code",
   "execution_count": null,
   "id": "2b0d8da5",
   "metadata": {},
   "outputs": [],
   "source": [
    "import pdal,json\n",
    "pipeline = pdal.Pipeline(json.dumps(pip))\n",
    "pipeline.execute()\n"
   ]
  },
  {
   "cell_type": "code",
   "execution_count": 16,
   "id": "91d1b936",
   "metadata": {},
   "outputs": [
    {
     "ename": "ValueError",
     "evalue": "Point cloud data missing 'X', 'Y', or 'HeightAboveGround' fields.",
     "output_type": "error",
     "traceback": [
      "\u001b[0;31m---------------------------------------------------------------------------\u001b[0m",
      "\u001b[0;31mValueError\u001b[0m                                Traceback (most recent call last)",
      "File \u001b[0;32m~/miniconda3/envs/pdal/lib/python3.13/site-packages/pyforestscan/calculate.py:73\u001b[0m, in \u001b[0;36massign_voxels\u001b[0;34m(arr, voxel_resolution)\u001b[0m\n\u001b[1;32m     72\u001b[0m     y \u001b[38;5;241m=\u001b[39m arr[\u001b[38;5;124m'\u001b[39m\u001b[38;5;124mY\u001b[39m\u001b[38;5;124m'\u001b[39m]\n\u001b[0;32m---> 73\u001b[0m     z \u001b[38;5;241m=\u001b[39m arr[\u001b[38;5;124m'\u001b[39m\u001b[38;5;124mHeightAboveGround\u001b[39m\u001b[38;5;124m'\u001b[39m]\n\u001b[1;32m     74\u001b[0m \u001b[38;5;28;01mexcept\u001b[39;00m \u001b[38;5;167;01mValueError\u001b[39;00m:\n",
      "\u001b[0;31mValueError\u001b[0m: no field of name HeightAboveGround",
      "\nDuring handling of the above exception, another exception occurred:\n",
      "\u001b[0;31mValueError\u001b[0m                                Traceback (most recent call last)",
      "Cell \u001b[0;32mIn[16], line 2\u001b[0m\n\u001b[1;32m      1\u001b[0m voxel_resolution \u001b[38;5;241m=\u001b[39m (\u001b[38;5;241m20\u001b[39m, \u001b[38;5;241m20\u001b[39m, \u001b[38;5;241m0.1\u001b[39m)\n\u001b[0;32m----> 2\u001b[0m voxels, extent \u001b[38;5;241m=\u001b[39m assign_voxels(data, voxel_resolution)\n\u001b[1;32m      4\u001b[0m chm \u001b[38;5;241m=\u001b[39m calculate_chm(data, voxel_resolution, interpolation\u001b[38;5;241m=\u001b[39m\u001b[38;5;28;01mNone\u001b[39;00m)\n",
      "File \u001b[0;32m~/miniconda3/envs/pdal/lib/python3.13/site-packages/pyforestscan/calculate.py:75\u001b[0m, in \u001b[0;36massign_voxels\u001b[0;34m(arr, voxel_resolution)\u001b[0m\n\u001b[1;32m     73\u001b[0m     z \u001b[38;5;241m=\u001b[39m arr[\u001b[38;5;124m'\u001b[39m\u001b[38;5;124mHeightAboveGround\u001b[39m\u001b[38;5;124m'\u001b[39m]\n\u001b[1;32m     74\u001b[0m \u001b[38;5;28;01mexcept\u001b[39;00m \u001b[38;5;167;01mValueError\u001b[39;00m:\n\u001b[0;32m---> 75\u001b[0m     \u001b[38;5;28;01mraise\u001b[39;00m \u001b[38;5;167;01mValueError\u001b[39;00m(\u001b[38;5;124m\"\u001b[39m\u001b[38;5;124mPoint cloud data missing \u001b[39m\u001b[38;5;124m'\u001b[39m\u001b[38;5;124mX\u001b[39m\u001b[38;5;124m'\u001b[39m\u001b[38;5;124m, \u001b[39m\u001b[38;5;124m'\u001b[39m\u001b[38;5;124mY\u001b[39m\u001b[38;5;124m'\u001b[39m\u001b[38;5;124m, or \u001b[39m\u001b[38;5;124m'\u001b[39m\u001b[38;5;124mHeightAboveGround\u001b[39m\u001b[38;5;124m'\u001b[39m\u001b[38;5;124m fields.\u001b[39m\u001b[38;5;124m\"\u001b[39m)\n\u001b[1;32m     77\u001b[0m \u001b[38;5;28;01mif\u001b[39;00m x\u001b[38;5;241m.\u001b[39msize \u001b[38;5;241m==\u001b[39m \u001b[38;5;241m0\u001b[39m \u001b[38;5;129;01mor\u001b[39;00m y\u001b[38;5;241m.\u001b[39msize \u001b[38;5;241m==\u001b[39m \u001b[38;5;241m0\u001b[39m \u001b[38;5;129;01mor\u001b[39;00m z\u001b[38;5;241m.\u001b[39msize \u001b[38;5;241m==\u001b[39m \u001b[38;5;241m0\u001b[39m:\n\u001b[1;32m     78\u001b[0m     \u001b[38;5;28;01mraise\u001b[39;00m \u001b[38;5;167;01mValueError\u001b[39;00m(\u001b[38;5;124m\"\u001b[39m\u001b[38;5;124mPoint cloud data contains no points.\u001b[39m\u001b[38;5;124m\"\u001b[39m)\n",
      "\u001b[0;31mValueError\u001b[0m: Point cloud data missing 'X', 'Y', or 'HeightAboveGround' fields."
     ]
    }
   ],
   "source": [
    "voxel_resolution = (20, 20, 0.1)\n",
    "voxels, extent = assign_voxels(data, voxel_resolution)\n",
    "\n",
    "chm = calculate_chm(data, voxel_resolution, interpolation=None)\n",
    "\n"
   ]
  },
  {
   "cell_type": "code",
   "execution_count": null,
   "id": "f4d74055",
   "metadata": {},
   "outputs": [],
   "source": [
    "# create_geotiff(chm[0], \"DATA/LIDAR/test/test/chm.tif\", \"EPSG:2154\", extent)\n"
   ]
  }
 ],
 "metadata": {
  "kernelspec": {
   "display_name": "pdal",
   "language": "python",
   "name": "python3"
  },
  "language_info": {
   "codemirror_mode": {
    "name": "ipython",
    "version": 3
   },
   "file_extension": ".py",
   "mimetype": "text/x-python",
   "name": "python",
   "nbconvert_exporter": "python",
   "pygments_lexer": "ipython3",
   "version": "3.13.1"
  }
 },
 "nbformat": 4,
 "nbformat_minor": 5
}

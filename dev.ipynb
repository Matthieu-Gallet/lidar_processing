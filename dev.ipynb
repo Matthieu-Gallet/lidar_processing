{
 "cells": [
  {
   "cell_type": "code",
   "execution_count": 1,
   "id": "feb76d37",
   "metadata": {},
   "outputs": [],
   "source": [
    "from pyforestscan.calculate import calculate_chm, calculate_fhd, assign_voxels\n",
    "from pyforestscan.handlers import read_lidar, create_geotiff\n",
    "import numpy as np\n",
    "import glob, os"
   ]
  },
  {
   "cell_type": "code",
   "execution_count": 2,
   "id": "422e1d5c",
   "metadata": {},
   "outputs": [],
   "source": [
    "path = \"/home/mgallet/Documents/DATA/LIDAR_TEST/processed_V4_fulltiles_avecCSF_002VOX/**/*.npy\"\n",
    "path2 = \"/home/mgallet/Documents/DATA/LIDAR_TEST/processed_V2_*/**/*.npy\""
   ]
  },
  {
   "cell_type": "code",
   "execution_count": 29,
   "id": "91b845ba",
   "metadata": {},
   "outputs": [],
   "source": [
    "data = np.load(glob.glob(path2, recursive=True)[0])"
   ]
  },
  {
   "cell_type": "code",
   "execution_count": 32,
   "id": "60a7ca2d",
   "metadata": {},
   "outputs": [
    {
     "data": {
      "text/plain": [
       "array([(1001061.01, 6550936.65, 2694.73, 1122, 2, 0.),\n",
       "       (1001061.5 , 6550936.26, 2694.52, 1555, 2, 0.),\n",
       "       (1001060.83, 6550935.2 , 2692.85, 1596, 2, 0.), ...,\n",
       "       (1001558.33, 6550865.1 , 2394.27, 1018, 2, 0.),\n",
       "       (1001557.88, 6550865.46, 2394.4 , 1156, 2, 0.),\n",
       "       (1001557.23, 6550865.98, 2395.09, 1057, 2, 0.)],\n",
       "      shape=(7864149,), dtype=[('X', '<f8'), ('Y', '<f8'), ('Z', '<f8'), ('Intensity', '<u2'), ('Classification', 'u1'), ('HeightAboveGround', '<f8')])"
      ]
     },
     "execution_count": 32,
     "metadata": {},
     "output_type": "execute_result"
    }
   ],
   "source": [
    "data = np.load(\"testmerged.npy\")\n",
    "data"
   ]
  },
  {
   "cell_type": "code",
   "execution_count": null,
   "id": "91d1b936",
   "metadata": {},
   "outputs": [],
   "source": [
    "voxel_resolution = (20, 20, 0.1)\n",
    "# voxels, extent = assign_voxels(pipeline.arrays[0], voxel_resolution)\n",
    "\n",
    "chm = calculate_chm(data, voxel_resolution, interpolation=None)\n",
    "\n"
   ]
  },
  {
   "cell_type": "code",
   "execution_count": 18,
   "id": "ae11dfb5",
   "metadata": {},
   "outputs": [
    {
     "data": {
      "text/plain": [
       "<matplotlib.image.AxesImage at 0x773d7bc8a0d0>"
      ]
     },
     "execution_count": 18,
     "metadata": {},
     "output_type": "execute_result"
    },
    {
     "data": {
      "image/png": "[encoded data removed]",
      "text/plain": [
       "<Figure size 640x480 with 1 Axes>"
      ]
     },
     "metadata": {},
     "output_type": "display_data"
    }
   ],
   "source": [
    "from matplotlib import pyplot as plt\n",
    "plt.imshow(chm[0], cmap=\"viridis\")"
   ]
  },
  {
   "cell_type": "code",
   "execution_count": null,
   "id": "f4d74055",
   "metadata": {},
   "outputs": [],
   "source": [
    "# create_geotiff(chm[0], \"DATA/LIDAR/test/test/chm.tif\", \"EPSG:2154\", extent)\n"
   ]
  },
  {
   "cell_type": "code",
   "execution_count": 76,
   "id": "ec646a00",
   "metadata": {},
   "outputs": [
    {
     "data": {
      "text/plain": [
       "{'processor_settings': {'group': -1,\n",
       "  'keep_variables': ['X',\n",
       "   'Y',\n",
       "   'Z',\n",
       "   'Intensity',\n",
       "   'Classification',\n",
       "   'HeightAboveGround'],\n",
       "  'n_jobs': 1},\n",
       " 'pdal_pipeline': {'phase_1': [{'type': 'filters.elm'},\n",
       "   {'type': 'filters.outlier',\n",
       "    'method': 'statistical',\n",
       "    'mean_k': 40,\n",
       "    'multiplier': 1.5},\n",
       "   {'type': 'filters.csf',\n",
       "    'resolution': 0.75,\n",
       "    'rigidness': 1,\n",
       "    'iterations': 800,\n",
       "    'threshold': 0.2},\n",
       "   {'type': 'filters.voxeldownsize', 'cell': 0.02}],\n",
       "  'phase_2': [{'type': 'filters.merge'},\n",
       "   {'type': 'filters.hag_nn', 'count': 80},\n",
       "   {'type': 'filters.range', 'limits': 'HeightAboveGround[0:35]'},\n",
       "   {'type': 'filters.expression',\n",
       "    'expression': '((Classification >= 2) && (Classification <= 5))'}]},\n",
       " 'paths': {'input_path': '/home/mgallet/Documents/DATA/lidar_data',\n",
       "  'output_dir': '/home/mgallet/Documents/DATA/LIDAR_TEST',\n",
       "  'lidar_list_tiles': '/home/mgallet/Documents/DATA/TA_programme_LiDAR-HD/TA_programme_lidar_HD_path.shp',\n",
       "  'area_of_interest': '/home/mgallet/Documents/Herbiland/vegetation/DATA/SHP/Bauges_Belledonne_MB/Emprise_totale_3massifs_EPSG2154.shp'}}"
      ]
     },
     "execution_count": 76,
     "metadata": {},
     "output_type": "execute_result"
    }
   ],
   "source": [
    "import json\n",
    "with open(\"/home/mgallet/Documents/Herbiland/PACKAGE/lidar_processing/config/default_config.json\") as f:\n",
    "    d = json.load(f)\n",
    "# d=json.loads(\"/home/mgallet/Documents/Herbiland/PACKAGE/lidar_processing/config/default_config.json\")\n",
    "d"
   ]
  },
  {
   "cell_type": "code",
   "execution_count": 81,
   "id": "c12a9f94",
   "metadata": {},
   "outputs": [
    {
     "data": {
      "text/plain": [
       "[{'type': 'readers.las',\n",
       "  'filename': 'test.las',\n",
       "  'spatialreference': 'EPSG:2154'},\n",
       " {'type': 'readers.las',\n",
       "  'filename': 'yolo.mas',\n",
       "  'spatialreference': 'EPSG:2154'},\n",
       " {'type': 'filters.merge'},\n",
       " {'type': 'filters.hag_nn', 'count': 80},\n",
       " {'type': 'filters.range', 'limits': 'HeightAboveGround[0:35]'},\n",
       " {'type': 'filters.expression',\n",
       "  'expression': '((Classification >= 2) && (Classification <= 5))'},\n",
       " {'type': 'writers.las',\n",
       "  'filename': 'test2.las',\n",
       "  'compression': 'false',\n",
       "  'minor_version': '4',\n",
       "  'forward': 'all'}]"
      ]
     },
     "execution_count": 81,
     "metadata": {},
     "output_type": "execute_result"
    }
   ],
   "source": [
    "def create_pdal_pipeline_phase(input_file, output_file, pipeline=None, phase=\"phase_1\"):\n",
    "    \"\"\"\n",
    "    Crée ou modifie une phase du pipeline PDAL (phase_1 ou phase_2) pour traiter chaque tuile individuellement.\n",
    "\n",
    "    Parameters:\n",
    "    ----------\n",
    "    input_file : str or list of str\n",
    "        Chemin du fichier LAS/LAZ d'entrée ou liste de chemins.\n",
    "    output_file : str\n",
    "        Chemin du fichier de sortie pour la phase spécifiée.\n",
    "    pipeline : dict, optional\n",
    "        Pipeline PDAL existant à modifier. Si None, un nouveau pipeline est créé.\n",
    "    phase : str\n",
    "        Nom de la phase à traiter ('phase_1' ou 'phase_2').\n",
    "\n",
    "    Returns:\n",
    "    -------\n",
    "    dict\n",
    "        Configuration du pipeline PDAL pour la phase spécifiée.\n",
    "    \"\"\"\n",
    "\n",
    "    if pipeline is None:\n",
    "        pipeline = {}\n",
    "\n",
    "    if phase not in pipeline:\n",
    "        pipeline[phase] = []\n",
    "\n",
    "    # Nettoyer la phase des anciens readers et writers\n",
    "    pipeline[phase] = [\n",
    "        p for p in pipeline[phase]\n",
    "        if p.get(\"type\") not in [\"readers.las\", \"writers.las\"]\n",
    "    ]\n",
    "\n",
    "    # Ajouter les readers\n",
    "    if isinstance(input_file, str):\n",
    "        pipeline[phase].insert(\n",
    "            0,\n",
    "            {\n",
    "                \"type\": \"readers.las\",\n",
    "                \"filename\": input_file,\n",
    "                \"spatialreference\": \"EPSG:2154\",\n",
    "            },\n",
    "        )\n",
    "    elif isinstance(input_file, list):\n",
    "        for file in reversed(input_file):  # On les insère dans l'ordre d'origine\n",
    "            pipeline[phase].insert(\n",
    "                0,\n",
    "                {\n",
    "                    \"type\": \"readers.las\",\n",
    "                    \"filename\": file,\n",
    "                    \"spatialreference\": \"EPSG:2154\",\n",
    "                },\n",
    "            )\n",
    "\n",
    "    # Ajouter le writer\n",
    "    pipeline[phase].append(\n",
    "        {\n",
    "            \"type\": \"writers.las\",\n",
    "            \"filename\": output_file,\n",
    "            \"compression\": \"false\",\n",
    "            \"minor_version\": \"4\",\n",
    "            \"forward\": \"all\",\n",
    "        }\n",
    "    )\n",
    "\n",
    "    return pipeline[phase]\n",
    "\n",
    "create_pdal_pipeline_phase([\"test.las\", \"yolo.mas\"], \"test2.las\", pipeline=deepcopy(d[\"pdal_pipeline\"]), phase=\"phase_2\")"
   ]
  },
  {
   "cell_type": "code",
   "execution_count": 83,
   "id": "e6bd0e24",
   "metadata": {},
   "outputs": [
    {
     "ename": "AttributeError",
     "evalue": "module 'os' has no attribute 'memory'",
     "output_type": "error",
     "traceback": [
      "\u001b[0;31m---------------------------------------------------------------------------\u001b[0m",
      "\u001b[0;31mAttributeError\u001b[0m                            Traceback (most recent call last)",
      "Cell \u001b[0;32mIn[83], line 2\u001b[0m\n\u001b[1;32m      1\u001b[0m \u001b[38;5;28;01mimport\u001b[39;00m \u001b[38;5;21;01mos\u001b[39;00m\n\u001b[0;32m----> 2\u001b[0m os\u001b[38;5;241m.\u001b[39mmemory()\n",
      "\u001b[0;31mAttributeError\u001b[0m: module 'os' has no attribute 'memory'"
     ]
    }
   ],
   "source": [
    "import os\n",
    "os.memory()"
   ]
  }
 ],
 "metadata": {
  "kernelspec": {
   "display_name": "pdal",
   "language": "python",
   "name": "python3"
  },
  "language_info": {
   "codemirror_mode": {
    "name": "ipython",
    "version": 3
   },
   "file_extension": ".py",
   "mimetype": "text/x-python",
   "name": "python",
   "nbconvert_exporter": "python",
   "pygments_lexer": "ipython3",
   "version": "3.13.1"
  }
 },
 "nbformat": 4,
 "nbformat_minor": 5
}
